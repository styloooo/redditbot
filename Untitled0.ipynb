{
 "metadata": {
  "name": "",
  "signature": "sha256:5b1ec002f7bf4a744a7f4661f9fd27b0262cc02e584bd5d2e8eb76edb3dd0354"
 },
 "nbformat": 3,
 "nbformat_minor": 0,
 "worksheets": [
  {
   "cells": [
    {
     "cell_type": "code",
     "collapsed": false,
     "input": [
      "# This is a reddit bot that browses /r/starcraft and posts helpful links for new players\n",
      "# V 0.02\n",
      "\n",
      "import pdb\n",
      "import time\n",
      "import praw\n",
      "from settings import myUsername,myPassword,myPost,mySub,myPoll,myAgent,myTime, myKeys\n",
      "\n",
      "print \"Please see README for documentation\"\n",
      "\n",
      "myUsername = str(raw_input(\"Username: \\n\")) or str(myUsername)\n",
      "#print myUsername\n",
      "\n",
      "myPassword = str(raw_input(\"Password: \\n\")) or str(myPassword)\n",
      "#print myPassword\n",
      "\n",
      "\n",
      "user_agent = str(raw_input(\"State your user agent: \\n\")) or str(myAgent)\n",
      "#print user_agent\n",
      "\n",
      "r = praw.Reddit(user_agent = user_agent) #sets r to PRAW module\n",
      "\n",
      "subreddit = str(raw_input(\"Subreddit to search: \\n\")) or str(mySub)\n",
      "#print subreddit\n",
      "\n",
      "post = str(raw_input(\"Text to post: \\n\")) or str(myPost)\n",
      "#print post\n",
      "\n",
      "prewords = raw_input('What keywords are we looking for? \\n (separate keywords with a space)')\n",
      "keywords = map(str, prewords.split()) or myKeys\n",
      "#print keywords\n",
      "\n",
      "pollingVal = str(raw_input(\"How many topics should we pull? \\n\")) or int(myPoll)\n",
      "#print pollingVal\n",
      "\n",
      "time = str(raw_input(\"How many minutes should we wait before we pull topics? \\n\")) or int(myTime)\n",
      "#print time\n",
      "\n",
      "hibernate = time * 60\n",
      "\n",
      "#r.login(myUsername,myPassword)\n",
      "\n",
      "def collect(subreddit):\n",
      "    return r.get_new(pollingVal) #collects posts to search for keywords\n",
      "\n",
      "while True:\n",
      "    generator = r.get_subreddit(subreddit) #assigns subbreddit to search\n",
      "    titles = collect(generator) #takes submissions and assigns them to title\n",
      "    for str(title) in str(titles):\n",
      "        keywordFound = 0\n",
      "        for keyword in keywords:\n",
      "            if keyword in title.title.lower(): #If the title contains a keyword\n",
      "                title.title.add_comment(post) #post comment\n",
      "                keywordFound = 1\n",
      "                break\n",
      "            else:\n",
      "                break\n",
      "        if not keywordFound:\n",
      "            print \"No key words found, hibernating\"\n",
      "            time.sleep(hibernate)\n"
     ],
     "language": "python",
     "metadata": {},
     "outputs": [
      {
       "ename": "SyntaxError",
       "evalue": "can't assign to function call (<ipython-input-8-c017866a45bd>, line 49)",
       "output_type": "pyerr",
       "traceback": [
        "\u001b[1;36m  File \u001b[1;32m\"<ipython-input-8-c017866a45bd>\"\u001b[1;36m, line \u001b[1;32m49\u001b[0m\n\u001b[1;33m    for str(title) in str(titles):\u001b[0m\n\u001b[1;31mSyntaxError\u001b[0m\u001b[1;31m:\u001b[0m can't assign to function call\n"
       ]
      }
     ],
     "prompt_number": 8
    },
    {
     "cell_type": "code",
     "collapsed": false,
     "input": [
      "# This is a reddit bot that browses /r/starcraft and posts helpful links for new players\n",
      "# V 0.02\n",
      "\n",
      "import pdb\n",
      "import time\n",
      "import praw\n",
      "from settings import myUsername,myPassword,myPost,mySub,myPoll,myAgent,myTime, myKeys\n",
      "\n",
      "print \"Please see README for documentation\"\n",
      "\n",
      "myUsername = str(raw_input(\"Username: \\n\")) or str(myUsername)\n",
      "#print myUsername\n",
      "\n",
      "myPassword = str(raw_input(\"Password: \\n\")) or str(myPassword)\n",
      "#print myPassword\n",
      "\n",
      "\n",
      "user_agent = str(raw_input(\"State your user agent: \\n\")) or str(myAgent)\n",
      "#print user_agent\n",
      "\n",
      "r = praw.Reddit(user_agent = user_agent) #sets r to PRAW module\n",
      "\n",
      "subreddit = str(raw_input(\"Subreddit to search: \\n\")) or str(mySub)\n",
      "#print subreddit\n",
      "\n",
      "post = str(raw_input(\"Text to post: \\n\")) or str(myPost)\n",
      "#print post\n",
      "\n",
      "prewords = raw_input('What keywords are we looking for? \\n (separate keywords with a space)')\n",
      "keywords = map(str, prewords.split()) or myKeys\n",
      "#print keywords\n",
      "\n",
      "pollingVal = str(raw_input(\"How many topics should we pull? \\n\")) or int(myPoll)\n",
      "#print pollingVal\n",
      "\n",
      "sleepTime = str(raw_input(\"How many minutes should we wait before we pull topics? \\n\")) or int(myTime)\n",
      "#print time\n",
      "\n",
      "hibernate = int(sleepTime) * 60\n",
      "\n",
      "#r.login(myUsername,myPassword)\n",
      "\n",
      "def collect(subreddit):\n",
      "    return r.get_new(limit = pollingVal) #collects posts to search for keywords\n",
      "\n",
      "while True:\n",
      "    generator = r.get_subreddit(subreddit) #assigns subbreddit to search\n",
      "    titles = collect(generator) #takes submissions and assigns them to title\n",
      "    for title in titles:\n",
      "        keywordFound = 0\n",
      "        for keyword in keywords:\n",
      "            if keyword in title.title.lower(): #If the title contains a keyword\n",
      "                title.title.add_comment(post) #post comment\n",
      "                keywordFound = 1\n",
      "                break\n",
      "            else:\n",
      "                break\n",
      "        if not keywordFound:\n",
      "            print \"No key words found, hibernating\"\n",
      "            time.sleep(int(hibernate))\n"
     ],
     "language": "python",
     "metadata": {},
     "outputs": [
      {
       "output_type": "stream",
       "stream": "stdout",
       "text": [
        "Please see README for documentation\n"
       ]
      },
      {
       "name": "stdout",
       "output_type": "stream",
       "stream": "stdout",
       "text": [
        "Username: \n",
        "\n"
       ]
      },
      {
       "name": "stdout",
       "output_type": "stream",
       "stream": "stdout",
       "text": [
        "Password: \n",
        "\n"
       ]
      },
      {
       "name": "stdout",
       "output_type": "stream",
       "stream": "stdout",
       "text": [
        "State your user agent: \n",
        "\n"
       ]
      },
      {
       "name": "stdout",
       "output_type": "stream",
       "stream": "stdout",
       "text": [
        "Subreddit to search: \n",
        "\n"
       ]
      },
      {
       "name": "stdout",
       "output_type": "stream",
       "stream": "stdout",
       "text": [
        "Text to post: \n",
        "\n"
       ]
      },
      {
       "name": "stdout",
       "output_type": "stream",
       "stream": "stdout",
       "text": [
        "What keywords are we looking for? \n",
        " (separate keywords with a space)\n"
       ]
      },
      {
       "name": "stdout",
       "output_type": "stream",
       "stream": "stdout",
       "text": [
        "How many topics should we pull? \n",
        "\n"
       ]
      },
      {
       "name": "stdout",
       "output_type": "stream",
       "stream": "stdout",
       "text": [
        "How many minutes should we wait before we pull topics? \n",
        "\n"
       ]
      },
      {
       "output_type": "stream",
       "stream": "stdout",
       "text": [
        "No key words found, hibernating\n"
       ]
      },
      {
       "ename": "KeyboardInterrupt",
       "evalue": "",
       "output_type": "pyerr",
       "traceback": [
        "\u001b[1;31m---------------------------------------------------------------------------\u001b[0m\n\u001b[1;31mKeyboardInterrupt\u001b[0m                         Traceback (most recent call last)",
        "\u001b[1;32m<ipython-input-16-9d16da568d7a>\u001b[0m in \u001b[0;36m<module>\u001b[1;34m()\u001b[0m\n\u001b[0;32m     58\u001b[0m         \u001b[1;32mif\u001b[0m \u001b[1;32mnot\u001b[0m \u001b[0mkeywordFound\u001b[0m\u001b[1;33m:\u001b[0m\u001b[1;33m\u001b[0m\u001b[0m\n\u001b[0;32m     59\u001b[0m             \u001b[1;32mprint\u001b[0m \u001b[1;34m\"No key words found, hibernating\"\u001b[0m\u001b[1;33m\u001b[0m\u001b[0m\n\u001b[1;32m---> 60\u001b[1;33m             \u001b[0mtime\u001b[0m\u001b[1;33m.\u001b[0m\u001b[0msleep\u001b[0m\u001b[1;33m(\u001b[0m\u001b[0mint\u001b[0m\u001b[1;33m(\u001b[0m\u001b[0mhibernate\u001b[0m\u001b[1;33m)\u001b[0m\u001b[1;33m)\u001b[0m\u001b[1;33m\u001b[0m\u001b[0m\n\u001b[0m",
        "\u001b[1;31mKeyboardInterrupt\u001b[0m: "
       ]
      }
     ],
     "prompt_number": 16
    },
    {
     "cell_type": "code",
     "collapsed": false,
     "input": [],
     "language": "python",
     "metadata": {},
     "outputs": [],
     "prompt_number": 16
    },
    {
     "cell_type": "code",
     "collapsed": false,
     "input": [
      "# This is a reddit bot that browses /r/starcraft and posts helpful links for new players\n",
      "# V 0.02\n",
      "\n",
      "import pdb\n",
      "import time\n",
      "import praw\n",
      "from settings import myUsername,myPassword,myPost,mySub,myPoll,myAgent,myTime, myKeys\n",
      "\n",
      "print \"Please see README for documentation\"\n",
      "\n",
      "myUsername = str(raw_input(\"Username: \\n\")) or str(myUsername)\n",
      "#print myUsername\n",
      "\n",
      "myPassword = str(raw_input(\"Password: \\n\")) or str(myPassword)\n",
      "#print myPassword\n",
      "\n",
      "\n",
      "user_agent = str(raw_input(\"State your user agent: \\n\")) or str(myAgent)\n",
      "#print user_agent\n",
      "\n",
      "r = praw.Reddit(user_agent = user_agent) #sets r to PRAW module\n",
      "\n",
      "subreddit = str(raw_input(\"Subreddit to search: \\n\")) or str(mySub)\n",
      "#print subreddit\n",
      "\n",
      "post = str(raw_input(\"Text to post: \\n\")) or str(myPost)\n",
      "#print post\n",
      "\n",
      "prewords = raw_input('What keywords are we looking for? \\n (separate keywords with a space)')\n",
      "keywords = map(str, prewords.split()) or myKeys\n",
      "#print keywords\n",
      "\n",
      "pollingVal = str(raw_input(\"How many topics should we pull? \\n\")) or int(myPoll)\n",
      "#print pollingVal\n",
      "\n",
      "time = str(raw_input(\"How many minutes should we wait before we pull topics? \\n\")) or int(myTime)\n",
      "#print time\n",
      "\n",
      "hibernate = time * 60\n",
      "\n",
      "#r.login(myUsername,myPassword)\n",
      "\n",
      "def collect(subreddit):\n",
      "    return r.get_new(pollingVal) #collects posts to search for keywords\n",
      "\n",
      "while True:\n",
      "    generator = r.get_subreddit(subreddit) #assigns subbreddit to search\n",
      "    titles = collect(generator) #takes submissions and assigns them to title\n",
      "    for title in titles:\n",
      "        keywordFound = 0\n",
      "        for keyword in keywords:\n",
      "            if keyword in title.title.lower(): #If the title contains a keyword\n",
      "                title.title.add_comment(post) #post comment\n",
      "                keywordFound = 1\n",
      "                break\n",
      "            else:\n",
      "                break\n",
      "        if not keywordFound:\n",
      "            print \"No key words found, hibernating\"\n",
      "            time.sleep(hibernate)"
     ],
     "language": "python",
     "metadata": {},
     "outputs": [
      {
       "ename": "SyntaxError",
       "evalue": "can't assign to function call (<ipython-input-17-c017866a45bd>, line 49)",
       "output_type": "pyerr",
       "traceback": [
        "\u001b[1;36m  File \u001b[1;32m\"<ipython-input-17-c017866a45bd>\"\u001b[1;36m, line \u001b[1;32m49\u001b[0m\n\u001b[1;33m    for str(title) in str(titles):\u001b[0m\n\u001b[1;31mSyntaxError\u001b[0m\u001b[1;31m:\u001b[0m can't assign to function call\n"
       ]
      }
     ],
     "prompt_number": 17
    },
    {
     "cell_type": "code",
     "collapsed": false,
     "input": [
      "# This is a reddit bot that browses /r/starcraft and posts helpful links for new players\n",
      "# V 0.02\n",
      "\n",
      "import pdb\n",
      "import time\n",
      "import praw\n",
      "from settings import myUsername,myPassword,myPost,mySub,myPoll,myAgent,myTime, myKeys\n",
      "\n",
      "print \"Please see README for documentation\"\n",
      "\n",
      "runDebug = raw_input(\"Debug tools? (Y/N)\")\n",
      "\n",
      "if runDebug == 'y' or 'Y':\n",
      "    debug == True\n",
      "    print \"Debug on\"\n",
      "else:\n",
      "    debug == False\n",
      "    print \"Debug off\"\n",
      "    \n",
      "def debugger(debug, var):\n",
      "    if debug = True:\n",
      "        print var\n",
      "    else:\n",
      "        continue\n",
      "\n",
      "\n",
      "myUsername = str(raw_input(\"Username: \\n\")) or str(myUsername)\n",
      "debugger(debug, myUsername)\n",
      "\n",
      "myPassword = str(raw_input(\"Password: \\n\")) or str(myPassword)\n",
      "debugger(debug, myPassword)\n",
      "\n",
      "\n",
      "user_agent = str(raw_input(\"State your user agent: \\n\")) or str(myAgent)\n",
      "debugger(debug, user_agent)\n",
      "\n",
      "r = praw.Reddit(user_agent = user_agent) #sets r to PRAW module\n",
      "\n",
      "subreddit = str(raw_input(\"Subreddit to search: \\n\")) or str(mySub)\n",
      "debugger(debug, subreddit)\n",
      "\n",
      "post = str(raw_input(\"Text to post: \\n\")) or str(myPost)\n",
      "debugger(debug, post)\n",
      "\n",
      "prewords = raw_input('What keywords are we looking for? \\n (separate keywords with a space)')\n",
      "keywords = map(str, prewords.split()) or myKeys\n",
      "debugger(debug, post)\n",
      "\n",
      "pollingVal = str(raw_input(\"How many topics should we pull? \\n\")) or int(myPoll)\n",
      "debugger(debug, pollinVal)\n",
      "\n",
      "if debug == True:\n",
      "    sleepTime = str(raw_input(\"How many seconds should we wait before we pull topics? \\n\")) or int(myTime)\n",
      "    debugger(debug, sleepTime)\n",
      "    hibernate = int(sleepTime)\n",
      "    \n",
      "else:\n",
      "    sleepTime = str(raw_input(\"How many minutes should we wait before we pull topics? \\n\")) or int(myTime)\n",
      "    hibernate = int(sleepTime) * 60\n",
      "if debug == False:\n",
      "    r.login(myUsername,myPassword)\n",
      "else:\n",
      "    print \"No login during debug\"\n",
      "\n",
      "def collect(subreddit):\n",
      "    return r.get_new(limit = pollingVal) #collects posts to search for keywords\n",
      "\n",
      "while True:\n",
      "    debugger(debug, \"Cycled from hibernate\")\n",
      "    x = 1\n",
      "    while x < 2:\n",
      "        generator = r.get_subreddit(subreddit) #pulls page data based on subreddit\n",
      "        titles = collect(generator) #pulls titles out of page data\n",
      "        for title in titles:\n",
      "            keywordFound = 0\n",
      "            for keyword in keywords:\n",
      "                if x < 2:\n",
      "                    if keyword in title.title.lower(): #If the title contains a keyword\n",
      "                        title.title.add_comment(post) #post comment\n",
      "                        keywordFound = 1\n",
      "                        break\n",
      "                    else:\n",
      "                        x = 3\n",
      "                else:\n",
      "                    break\n",
      "            if not keywordFound:\n",
      "                print \"No key words found, hibernating for \", hibernate, \" seconds.\"\n",
      "                time.sleep(int(hibernate))\n",
      "                break\n"
     ],
     "language": "python",
     "metadata": {},
     "outputs": [
      {
       "ename": "SyntaxError",
       "evalue": "invalid syntax (<ipython-input-32-077981b6c130>, line 21)",
       "output_type": "pyerr",
       "traceback": [
        "\u001b[1;36m  File \u001b[1;32m\"<ipython-input-32-077981b6c130>\"\u001b[1;36m, line \u001b[1;32m21\u001b[0m\n\u001b[1;33m    if debug = True:\u001b[0m\n\u001b[1;37m             ^\u001b[0m\n\u001b[1;31mSyntaxError\u001b[0m\u001b[1;31m:\u001b[0m invalid syntax\n"
       ]
      }
     ],
     "prompt_number": 32
    },
    {
     "cell_type": "code",
     "collapsed": false,
     "input": [
      "# This is a reddit bot that browses /r/starcraft and posts helpful links for new players\n",
      "# V 0.02\n",
      "\n",
      "import pdb\n",
      "import time\n",
      "import praw\n",
      "from settings import myUsername,myPassword,myPost,mySub,myPoll,myAgent,myTime, myKeys\n",
      "\n",
      "print \"Please see README for documentation\"\n",
      "\n",
      "debug = False\n",
      "\n",
      "runDebug = raw_input(\"Debug tools? (Y/N)\")\n",
      "\n",
      "if runDebug == 'y' or 'Y':\n",
      "    debug == True\n",
      "    print \"Debug on\"\n",
      "else:\n",
      "    debug == False\n",
      "    print \"Debug off\"\n",
      "    \n",
      "def debugger(debug, var):\n",
      "    if debug == True:\n",
      "        print var\n",
      "        \n",
      "\n",
      "\n",
      "myUsername = str(raw_input(\"Username: \\n\")) or str(myUsername)\n",
      "debugger(debug, myUsername)\n",
      "\n",
      "myPassword = str(raw_input(\"Password: \\n\")) or str(myPassword)\n",
      "debugger(debug, myPassword)\n",
      "\n",
      "\n",
      "user_agent = str(raw_input(\"State your user agent: \\n\")) or str(myAgent)\n",
      "debugger(debug, user_agent)\n",
      "\n",
      "r = praw.Reddit(user_agent = user_agent) #sets r to PRAW module\n",
      "\n",
      "subreddit = str(raw_input(\"Subreddit to search: \\n\")) or str(mySub)\n",
      "debugger(debug, subreddit)\n",
      "\n",
      "post = str(raw_input(\"Text to post: \\n\")) or str(myPost)\n",
      "debugger(debug, post)\n",
      "\n",
      "prewords = raw_input('What keywords are we looking for? \\n (separate keywords with a space)')\n",
      "keywords = map(str, prewords.split()) or myKeys\n",
      "debugger(debug, post)\n",
      "\n",
      "pollingVal = str(raw_input(\"How many topics should we pull? \\n\")) or int(myPoll)\n",
      "debugger(debug, pollinVal)\n",
      "\n",
      "if debug == True:\n",
      "    sleepTime = str(raw_input(\"How many seconds should we wait before we pull topics? \\n\")) or int(myTime)\n",
      "    debugger(debug, sleepTime)\n",
      "    hibernate = int(sleepTime)\n",
      "    \n",
      "else:\n",
      "    sleepTime = str(raw_input(\"How many minutes should we wait before we pull topics? \\n\")) or int(myTime)\n",
      "    hibernate = int(sleepTime) * 60\n",
      "if debug == False:\n",
      "    r.login(myUsername,myPassword)\n",
      "else:\n",
      "    print \"No login during debug\"\n",
      "\n",
      "def collect(subreddit):\n",
      "    return r.get_new(limit = pollingVal) #collects posts to search for keywords\n",
      "\n",
      "while True:\n",
      "    debugger(debug, \"Cycled from hibernate\")\n",
      "    x = 1\n",
      "    while x < 2:\n",
      "        generator = r.get_subreddit(subreddit) #pulls page data based on subreddit\n",
      "        titles = collect(generator) #pulls titles out of page data\n",
      "        for title in titles:\n",
      "            keywordFound = 0\n",
      "            for keyword in keywords:\n",
      "                if x < 2:\n",
      "                    if keyword in title.title.lower(): #If the title contains a keyword\n",
      "                        title.title.add_comment(post) #post comment\n",
      "                        keywordFound = 1\n",
      "                        break\n",
      "                    else:\n",
      "                        x = 3\n",
      "                else:\n",
      "                    break\n",
      "            if not keywordFound:\n",
      "                print \"No key words found, hibernating for \", hibernate, \" seconds.\"\n",
      "                time.sleep(int(hibernate))\n",
      "                break\n"
     ],
     "language": "python",
     "metadata": {},
     "outputs": [
      {
       "output_type": "stream",
       "stream": "stdout",
       "text": [
        "Please see README for documentation\n"
       ]
      },
      {
       "name": "stdout",
       "output_type": "stream",
       "stream": "stdout",
       "text": [
        "Debug tools? (Y/N)t\n"
       ]
      },
      {
       "output_type": "stream",
       "stream": "stdout",
       "text": [
        "Debug on\n"
       ]
      },
      {
       "name": "stdout",
       "output_type": "stream",
       "stream": "stdout",
       "text": [
        "Username: \n",
        "dk\n"
       ]
      },
      {
       "name": "stdout",
       "output_type": "stream",
       "stream": "stdout",
       "text": [
        "Password: \n",
        "sl\n"
       ]
      },
      {
       "name": "stdout",
       "output_type": "stream",
       "stream": "stdout",
       "text": [
        "State your user agent: \n",
        "\n"
       ]
      },
      {
       "name": "stdout",
       "output_type": "stream",
       "stream": "stdout",
       "text": [
        "Subreddit to search: \n",
        "asdf\n"
       ]
      },
      {
       "name": "stdout",
       "output_type": "stream",
       "stream": "stdout",
       "text": [
        "Text to post: \n",
        "s\n"
       ]
      },
      {
       "name": "stdout",
       "output_type": "stream",
       "stream": "stdout",
       "text": [
        "What keywords are we looking for? \n",
        " (separate keywords with a space)d\n"
       ]
      },
      {
       "name": "stdout",
       "output_type": "stream",
       "stream": "stdout",
       "text": [
        "How many topics should we pull? \n",
        "f\n"
       ]
      },
      {
       "ename": "NameError",
       "evalue": "name 'pollinVal' is not defined",
       "output_type": "pyerr",
       "traceback": [
        "\u001b[1;31m---------------------------------------------------------------------------\u001b[0m\n\u001b[1;31mNameError\u001b[0m                                 Traceback (most recent call last)",
        "\u001b[1;32m<ipython-input-36-b37163574115>\u001b[0m in \u001b[0;36m<module>\u001b[1;34m()\u001b[0m\n\u001b[0;32m     49\u001b[0m \u001b[1;33m\u001b[0m\u001b[0m\n\u001b[0;32m     50\u001b[0m \u001b[0mpollingVal\u001b[0m \u001b[1;33m=\u001b[0m \u001b[0mstr\u001b[0m\u001b[1;33m(\u001b[0m\u001b[0mraw_input\u001b[0m\u001b[1;33m(\u001b[0m\u001b[1;34m\"How many topics should we pull? \\n\"\u001b[0m\u001b[1;33m)\u001b[0m\u001b[1;33m)\u001b[0m \u001b[1;32mor\u001b[0m \u001b[0mint\u001b[0m\u001b[1;33m(\u001b[0m\u001b[0mmyPoll\u001b[0m\u001b[1;33m)\u001b[0m\u001b[1;33m\u001b[0m\u001b[0m\n\u001b[1;32m---> 51\u001b[1;33m \u001b[0mdebugger\u001b[0m\u001b[1;33m(\u001b[0m\u001b[0mdebug\u001b[0m\u001b[1;33m,\u001b[0m \u001b[0mpollinVal\u001b[0m\u001b[1;33m)\u001b[0m\u001b[1;33m\u001b[0m\u001b[0m\n\u001b[0m\u001b[0;32m     52\u001b[0m \u001b[1;33m\u001b[0m\u001b[0m\n\u001b[0;32m     53\u001b[0m \u001b[1;32mif\u001b[0m \u001b[0mdebug\u001b[0m \u001b[1;33m==\u001b[0m \u001b[0mTrue\u001b[0m\u001b[1;33m:\u001b[0m\u001b[1;33m\u001b[0m\u001b[0m\n",
        "\u001b[1;31mNameError\u001b[0m: name 'pollinVal' is not defined"
       ]
      }
     ],
     "prompt_number": 36
    },
    {
     "cell_type": "code",
     "collapsed": false,
     "input": [
      "# This is a reddit bot that browses /r/starcraft and posts helpful links for new players\n",
      "# V 0.02\n",
      "\n",
      "import pdb\n",
      "import time\n",
      "import praw\n",
      "from settings import myUsername,myPassword,myPost,mySub,myPoll,myAgent,myTime, myKeys\n",
      "\n",
      "print \"Please see README for documentation\"\n",
      "\n",
      "debug = False\n",
      "\n",
      "runDebug = raw_input(\"Debug tools? (Y/N)\")\n",
      "\n",
      "if runDebug === 'y' or 'Y':\n",
      "    debug == True\n",
      "    print \"Debug on\"\n",
      "else:\n",
      "    debug == False\n",
      "    print \"Debug off\"\n",
      "    \n",
      "def debugger(debug, var):\n",
      "    if debug == True:\n",
      "        print var\n",
      "        \n",
      "\n",
      "\n",
      "myUsername = str(raw_input(\"Username: \\n\")) or str(myUsername)\n",
      "debugger(debug, myUsername)\n",
      "\n",
      "myPassword = str(raw_input(\"Password: \\n\")) or str(myPassword)\n",
      "debugger(debug, myPassword)\n",
      "\n",
      "\n",
      "user_agent = str(raw_input(\"State your user agent: \\n\")) or str(myAgent)\n",
      "debugger(debug, user_agent)\n",
      "\n",
      "r = praw.Reddit(user_agent = user_agent) #sets r to PRAW module\n",
      "\n",
      "subreddit = str(raw_input(\"Subreddit to search: \\n\")) or str(mySub)\n",
      "debugger(debug, subreddit)\n",
      "\n",
      "post = str(raw_input(\"Text to post: \\n\")) or str(myPost)\n",
      "debugger(debug, post)\n",
      "\n",
      "prewords = raw_input('What keywords are we looking for? \\n (separate keywords with a space)')\n",
      "keywords = map(str, prewords.split()) or myKeys\n",
      "debugger(debug, post)\n",
      "\n",
      "pollingVal = str(raw_input(\"How many topics should we pull? \\n\")) or int(myPoll)\n",
      "debugger(debug, pollingVal)\n",
      "\n",
      "if debug == True:\n",
      "    sleepTime = str(raw_input(\"How many seconds should we wait before we pull topics? \\n\")) or int(myTime)\n",
      "    debugger(debug, sleepTime)\n",
      "    hibernate = int(sleepTime)\n",
      "    \n",
      "else:\n",
      "    sleepTime = str(raw_input(\"How many minutes should we wait before we pull topics? \\n\")) or int(myTime)\n",
      "    hibernate = int(sleepTime) * 60\n",
      "if debug == False:\n",
      "    r.login(myUsername,myPassword)\n",
      "else:\n",
      "    print \"No login during debug\"\n",
      "\n",
      "def collect(subreddit):\n",
      "    return r.get_new(limit = pollingVal) #collects posts to search for keywords\n",
      "\n",
      "while True:\n",
      "    debugger(debug, \"Cycled from hibernate\")\n",
      "    x = 1\n",
      "    while x < 2:\n",
      "        generator = r.get_subreddit(subreddit) #pulls page data based on subreddit\n",
      "        titles = collect(generator) #pulls titles out of page data\n",
      "        for title in titles:\n",
      "            keywordFound = 0\n",
      "            for keyword in keywords:\n",
      "                if x < 2:\n",
      "                    if keyword in title.title.lower(): #If the title contains a keyword\n",
      "                        title.title.add_comment(post) #post comment\n",
      "                        keywordFound = 1\n",
      "                        break\n",
      "                    else:\n",
      "                        x = 3\n",
      "                else:\n",
      "                    break\n",
      "            if not keywordFound:\n",
      "                print \"No key words found, hibernating for \", hibernate, \" seconds.\"\n",
      "                time.sleep(int(hibernate))\n",
      "                break\n"
     ],
     "language": "python",
     "metadata": {},
     "outputs": [
      {
       "ename": "SyntaxError",
       "evalue": "invalid syntax (<ipython-input-37-a33925b2215a>, line 15)",
       "output_type": "pyerr",
       "traceback": [
        "\u001b[1;36m  File \u001b[1;32m\"<ipython-input-37-a33925b2215a>\"\u001b[1;36m, line \u001b[1;32m15\u001b[0m\n\u001b[1;33m    if runDebug === 'y' or 'Y':\u001b[0m\n\u001b[1;37m                  ^\u001b[0m\n\u001b[1;31mSyntaxError\u001b[0m\u001b[1;31m:\u001b[0m invalid syntax\n"
       ]
      }
     ],
     "prompt_number": 37
    },
    {
     "cell_type": "code",
     "collapsed": false,
     "input": [
      "# This is a reddit bot that browses /r/starcraft and posts helpful links for new players\n",
      "# V 0.02\n",
      "\n",
      "import pdb\n",
      "import time\n",
      "import praw\n",
      "from settings import myUsername,myPassword,myPost,mySub,myPoll,myAgent,myTime, myKeys\n",
      "\n",
      "print \"Please see README for documentation\"\n",
      "\n",
      "# debug = False\n",
      "\n",
      "runDebug = raw_input(\"Debug tools? (Y/N)\")\n",
      "\n",
      "# if runDebug == 'y' or runDebug == 'Y':\n",
      "#     debug == True\n",
      "#     print \"Debug on\"\n",
      "# elif runDebug == 'n' or runDebug == 'N':\n",
      "#     debug == False\n",
      "#     print \"Debug off\"\n",
      "debug = True\n",
      "    \n",
      "def debugger(debug, *args):\n",
      "    if debug == True:\n",
      "        print args\n",
      "        \n",
      "\n",
      "\n",
      "myUsername = str(raw_input(\"Username: \\n\")) or str(myUsername)\n",
      "debugger(debug, *myUsername)\n",
      "\n",
      "myPassword = str(raw_input(\"Password: \\n\")) or str(myPassword)\n",
      "debugger(debug, *myPassword)\n",
      "\n",
      "\n",
      "user_agent = str(raw_input(\"State your user agent: \\n\")) or str(myAgent)\n",
      "debugger(debug, *user_agent)\n",
      "\n",
      "r = praw.Reddit(user_agent = user_agent)\n",
      "\n",
      "subreddit = str(raw_input(\"Subreddit to search: \\n\")) or str(mySub)\n",
      "debugger(debug, *subreddit)\n",
      "\n",
      "post = str(raw_input(\"Text to post: \\n\")) or str(myPost)\n",
      "debugger(debug, *post)\n",
      "\n",
      "prewords = raw_input('What keywords are we looking for? \\n (separate keywords with a space)')\n",
      "keywords = map(str, prewords.split()) or myKeys\n",
      "debugger(debug, *keywords)\n",
      "\n",
      "pollingVal = raw_input(\"How many topics should we pull? \\n\") or int(myPoll)\n",
      "debugger(debug, *pollingVal)\n",
      "\n",
      "if debug == True:\n",
      "    sleepTime = str(raw_input(\"How many seconds should we wait before we pull topics? \\n\")) or int(myTime)\n",
      "    debugger(debug, *sleepTime)\n",
      "    hibernate = int(sleepTime)\n",
      "    \n",
      "else:\n",
      "    sleepTime = str(raw_input(\"How many minutes should we wait before we pull topics? \\n\")) or int(myTime)\n",
      "    hibernate = int(sleepTime) * 60\n",
      "if debug == False:\n",
      "    r.login(myUsername,myPassword)\n",
      "else:\n",
      "    print \"No login during debug\"\n",
      "\n",
      "def collect(subreddit):\n",
      "    return r.get_new(limit = int(pollingVal)) #collects posts to search for keywords\n",
      "\n",
      "while True:\n",
      "    debugger(debug, *\"Cycled from hibernate\")\n",
      "    x = 1\n",
      "    while x < 2:\n",
      "        generator = r.get_subreddit(subreddit) #pulls page data based on subreddit\n",
      "        titles = collect(generator) #pulls titles out of page data\n",
      "        for title in titles:\n",
      "            keywordFound = 0\n",
      "            for keyword in keywords:\n",
      "                if x < 2:\n",
      "                    if keyword in title.title.lower(): #If the title contains a keyword\n",
      "                        title.title.add_comment(post) #post comment\n",
      "                        keywordFound = 1\n",
      "                        break\n",
      "                    else:\n",
      "                        x = 3\n",
      "                else:\n",
      "                    break\n",
      "            if not keywordFound:\n",
      "                print \"No key words found, hibernating for \", hibernate, \" seconds.\"\n",
      "                time.sleep(int(hibernate))\n",
      "                break\n"
     ],
     "language": "python",
     "metadata": {},
     "outputs": [
      {
       "output_type": "stream",
       "stream": "stdout",
       "text": [
        "Please see README for documentation\n"
       ]
      },
      {
       "name": "stdout",
       "output_type": "stream",
       "stream": "stdout",
       "text": [
        "Debug tools? (Y/N)f\n"
       ]
      },
      {
       "name": "stdout",
       "output_type": "stream",
       "stream": "stdout",
       "text": [
        "Username: \n",
        "\n"
       ]
      },
      {
       "output_type": "stream",
       "stream": "stdout",
       "text": [
        "('s', 't', 'a', 'r', 'c', 'r', 'a', 'f', 't', 'h', 'e', 'l', 'p', 'e', 'r')\n"
       ]
      },
      {
       "name": "stdout",
       "output_type": "stream",
       "stream": "stdout",
       "text": [
        "Password: \n",
        "\n"
       ]
      },
      {
       "output_type": "stream",
       "stream": "stdout",
       "text": [
        "('s', 't', 'a', 'r', 'c', 'r', 'a', 'f', 't', '8', '8', '8')\n"
       ]
      },
      {
       "name": "stdout",
       "output_type": "stream",
       "stream": "stdout",
       "text": [
        "State your user agent: \n",
        "\n"
       ]
      },
      {
       "output_type": "stream",
       "stream": "stdout",
       "text": [
        "('S', 'c', 'r', 'i', 'p', 't', ' ', 't', 'o', ' ', 'i', 'n', 'f', 'o', 'r', 'm', ' ', 'n', 'e', 'w', ' ', 'u', 's', 'e', 'r', 's', ' ', 'o', 'f', ' ', 'r', '/', 's', 't', 'a', 'r', 'c', 'r', 'a', 'f', 't')\n"
       ]
      },
      {
       "name": "stdout",
       "output_type": "stream",
       "stream": "stdout",
       "text": [
        "Subreddit to search: \n",
        "\n"
       ]
      },
      {
       "output_type": "stream",
       "stream": "stdout",
       "text": [
        "('s', 't', 'a', 'r', 'c', 'r', 'a', 'f', 't')\n"
       ]
      },
      {
       "name": "stdout",
       "output_type": "stream",
       "stream": "stdout",
       "text": [
        "Text to post: \n",
        "\n"
       ]
      },
      {
       "output_type": "stream",
       "stream": "stdout",
       "text": [
        "('T', 'e', 's', 't', ' ', 'p', 'o', 's', 't', '.')\n"
       ]
      },
      {
       "name": "stdout",
       "output_type": "stream",
       "stream": "stdout",
       "text": [
        "What keywords are we looking for? \n",
        " (separate keywords with a space)\n"
       ]
      },
      {
       "output_type": "stream",
       "stream": "stdout",
       "text": [
        "('new player', 'noob', 'beginner', 'help')\n"
       ]
      },
      {
       "name": "stdout",
       "output_type": "stream",
       "stream": "stdout",
       "text": [
        "How many topics should we pull? \n",
        "\n"
       ]
      },
      {
       "ename": "TypeError",
       "evalue": "debugger() argument after * must be a sequence, not int",
       "output_type": "pyerr",
       "traceback": [
        "\u001b[1;31m---------------------------------------------------------------------------\u001b[0m\n\u001b[1;31mTypeError\u001b[0m                                 Traceback (most recent call last)",
        "\u001b[1;32m<ipython-input-44-fc29bf8e8ed2>\u001b[0m in \u001b[0;36m<module>\u001b[1;34m()\u001b[0m\n\u001b[0;32m     50\u001b[0m \u001b[1;33m\u001b[0m\u001b[0m\n\u001b[0;32m     51\u001b[0m \u001b[0mpollingVal\u001b[0m \u001b[1;33m=\u001b[0m \u001b[0mraw_input\u001b[0m\u001b[1;33m(\u001b[0m\u001b[1;34m\"How many topics should we pull? \\n\"\u001b[0m\u001b[1;33m)\u001b[0m \u001b[1;32mor\u001b[0m \u001b[0mint\u001b[0m\u001b[1;33m(\u001b[0m\u001b[0mmyPoll\u001b[0m\u001b[1;33m)\u001b[0m\u001b[1;33m\u001b[0m\u001b[0m\n\u001b[1;32m---> 52\u001b[1;33m \u001b[0mdebugger\u001b[0m\u001b[1;33m(\u001b[0m\u001b[0mdebug\u001b[0m\u001b[1;33m,\u001b[0m \u001b[1;33m*\u001b[0m\u001b[0mpollingVal\u001b[0m\u001b[1;33m)\u001b[0m\u001b[1;33m\u001b[0m\u001b[0m\n\u001b[0m\u001b[0;32m     53\u001b[0m \u001b[1;33m\u001b[0m\u001b[0m\n\u001b[0;32m     54\u001b[0m \u001b[1;32mif\u001b[0m \u001b[0mdebug\u001b[0m \u001b[1;33m==\u001b[0m \u001b[0mTrue\u001b[0m\u001b[1;33m:\u001b[0m\u001b[1;33m\u001b[0m\u001b[0m\n",
        "\u001b[1;31mTypeError\u001b[0m: debugger() argument after * must be a sequence, not int"
       ]
      }
     ],
     "prompt_number": 44
    },
    {
     "cell_type": "code",
     "collapsed": false,
     "input": [],
     "language": "python",
     "metadata": {},
     "outputs": []
    }
   ],
   "metadata": {}
  }
 ]
}