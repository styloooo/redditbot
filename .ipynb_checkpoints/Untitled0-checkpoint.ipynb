{
 "metadata": {
  "name": "",
  "signature": "sha256:5183479abab07e182b8bdfec496be4cfc5cc00051eac2b0de53885d3cd323ef8"
 },
 "nbformat": 3,
 "nbformat_minor": 0,
 "worksheets": []
}