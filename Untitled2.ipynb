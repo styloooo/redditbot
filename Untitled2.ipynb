{
 "metadata": {
  "name": "",
  "signature": "sha256:77b702b1933bcb202392abc103a4277d2bc636e10421e707bf001db94b90bfcb"
 },
 "nbformat": 3,
 "nbformat_minor": 0,
 "worksheets": [
  {
   "cells": [
    {
     "cell_type": "code",
     "collapsed": false,
     "input": [
      "# This is a reddit bot that browses /r/starcraft and posts helpful links for new players\n",
      "# V 0.02\n",
      "\n",
      "import pdb\n",
      "import time\n",
      "import praw\n",
      "from settings import myUsername,myPassword,myPost,mySub,myPoll,myAgent,myTime,myKeys\n",
      "\n",
      "print \"Please see README for documentation\"\n",
      "\n",
      "debug = False\n",
      "\n",
      "runDebug = raw_input(\"Debug tools? (Y/N)\")\n",
      "def debug():\n",
      "    if runDebug == 'y' or runDebug == 'Y':\n",
      "        return True\n",
      "    else:\n",
      "        return False\n",
      "        \n",
      "print \"Debug set to: \", debug()\n",
      "\n",
      "if debug() == True:\n",
      "    sleepTime = str(raw_input(\"How many seconds should we wait before we pull topics? \\n\")) or int(myTime)\n",
      "    hibernate = int(sleepTime)\n",
      "    \n",
      "else:\n",
      "    sleepTime = str(raw_input(\"How many minutes should we wait before we pull topics? \\n\")) or int(myTime)\n",
      "    hibernate = int(sleepTime) * 60\n",
      "\n",
      "prewords = raw_input('What keywords are we looking for? \\n --separate keywords with a space\\n')\n",
      "\n",
      "dir = {'userName':str(raw_input(\"Username: \\n\")) or str(myUsername),\n",
      "'myPassword':str(raw_input(\"Password: \\n\")) or str(myPassword),\n",
      "'userAgent':str(raw_input(\"State your user agent: \\n\")) or str(myAgent),\n",
      "'subreddit':str(raw_input(\"Subreddit to search: \\n\")) or str(mySub),\n",
      "'post':str(raw_input(\"Text to post: \\n\")) or str(myPost),\n",
      "'pollingVal':raw_input(\"How many topics should we pull? \\n\") or int(myPoll),\n",
      "}\n",
      "\n",
      "words= map (str, prewords.split()) or myKeys\n",
      "dir.update({'keywords':words})\n",
      "dir.update({'snooze':str(hibernate) + ' seconds'})\n",
      "\n",
      "r = praw.Reddit(user_agent = dir['userAgent'])\n",
      "\n",
      "def debugger(debug):\n",
      "    if debug() == True:\n",
      "        with open('debug.log', 'w') as file:\n",
      "            file.write(str(dir))\n",
      "        with open('debug.log', 'r') as els:\n",
      "            for var in dir.keys():\n",
      "                myvalue  = dir[var]\n",
      "                print var,\"is equal to\", myvalue\n",
      "debugger(debug)\n",
      "\n",
      "#myUsername = str(raw_input(\"Username: \\n\")) or str(myUsername)\n",
      "\n",
      "\n",
      "\n",
      "#myPassword = str(raw_input(\"Password: \\n\")) or str(myPassword)\n",
      "\n",
      "\n",
      "\n",
      "#user_agent = str(raw_input(\"State your user agent: \\n\")) or str(myAgent)\n",
      "\n",
      "\n",
      "\n",
      "\n",
      "#subreddit = str(raw_input(\"Subreddit to search: \\n\")) or str(mySub)\n",
      "\n",
      "\n",
      "#post = str(raw_input(\"Text to post: \\n\")) or str(myPost)\n",
      "\n",
      "\n",
      "#prewords = raw_input('What keywords are we looking for? \\n (separate keywords with a space)')\n",
      "#keywords = map(str, prewords.split()) or myKeys\n",
      "\n",
      "\n",
      "#pollingVal = raw_input(\"How many topics should we pull? \\n\") or int(myPoll)\n",
      "\n",
      "\n",
      "if debug() == False:\n",
      "    r.login(myUsername,myPassword)\n",
      "else:\n",
      "    print \"No login during debug\"\n",
      "\n",
      "def collect(subreddit):\n",
      "    return r.get_new(limit = int(dir['pollingVal'])) #collects posts to search for keywords\n",
      "\n",
      "cycle = 0\n",
      "\n",
      "while True:\n",
      "    if cycle == 1 and debug() == True:\n",
      "        print \"Cycled from hibernate\"\n",
      "    x = 1\n",
      "    while x < 2:\n",
      "        generator = r.get_subreddit(dir['subreddit']) #pulls page data based on subreddit\n",
      "        titles = collect(generator) #pulls titles out of page data\n",
      "        for title in titles:\n",
      "            keywordFound = 0\n",
      "            for keyword in dir['keywords']:\n",
      "                if x < 2:\n",
      "                    if keyword in title.title.lower(): #If the title contains a keyword\n",
      "                        title.title.add_comment(dir['post']) #post comment\n",
      "                        keywordFound = 1\n",
      "                        break\n",
      "                    else:\n",
      "                        x = 3\n",
      "                else:\n",
      "                    break\n",
      "            if not keywordFound:\n",
      "                print \"No key words found, hibernating for \", hibernate, \" seconds.\"\n",
      "                time.sleep(int(hibernate))\n",
      "                cycle = 1\n",
      "                break\n"
     ],
     "language": "python",
     "metadata": {},
     "outputs": [
      {
       "output_type": "stream",
       "stream": "stdout",
       "text": [
        "Please see README for documentation\n"
       ]
      },
      {
       "name": "stdout",
       "output_type": "stream",
       "stream": "stdout",
       "text": [
        "Debug tools? (Y/N)n\n"
       ]
      },
      {
       "output_type": "stream",
       "stream": "stdout",
       "text": [
        "Debug set to:  False\n"
       ]
      },
      {
       "name": "stdout",
       "output_type": "stream",
       "stream": "stdout",
       "text": [
        "How many minutes should we wait before we pull topics? \n",
        "\n"
       ]
      },
      {
       "name": "stdout",
       "output_type": "stream",
       "stream": "stdout",
       "text": [
        "What keywords are we looking for? \n",
        " --separate keywords with a space\n",
        "\n"
       ]
      },
      {
       "name": "stdout",
       "output_type": "stream",
       "stream": "stdout",
       "text": [
        "Username: \n",
        "\n"
       ]
      },
      {
       "name": "stdout",
       "output_type": "stream",
       "stream": "stdout",
       "text": [
        "Password: \n",
        "\n"
       ]
      },
      {
       "name": "stdout",
       "output_type": "stream",
       "stream": "stdout",
       "text": [
        "State your user agent: \n",
        "\n"
       ]
      },
      {
       "name": "stdout",
       "output_type": "stream",
       "stream": "stdout",
       "text": [
        "Subreddit to search: \n",
        "\n"
       ]
      },
      {
       "name": "stdout",
       "output_type": "stream",
       "stream": "stdout",
       "text": [
        "Text to post: \n",
        "\n"
       ]
      },
      {
       "name": "stdout",
       "output_type": "stream",
       "stream": "stdout",
       "text": [
        "How many topics should we pull? \n",
        "\n"
       ]
      },
      {
       "output_type": "stream",
       "stream": "stdout",
       "text": [
        "No key words found, hibernating for  600  seconds.\n"
       ]
      },
      {
       "ename": "KeyboardInterrupt",
       "evalue": "",
       "output_type": "pyerr",
       "traceback": [
        "\u001b[1;31m---------------------------------------------------------------------------\u001b[0m\n\u001b[1;31mKeyboardInterrupt\u001b[0m                         Traceback (most recent call last)",
        "\u001b[1;32m<ipython-input-1-7e40170f40a6>\u001b[0m in \u001b[0;36m<module>\u001b[1;34m()\u001b[0m\n\u001b[0;32m    111\u001b[0m             \u001b[1;32mif\u001b[0m \u001b[1;32mnot\u001b[0m \u001b[0mkeywordFound\u001b[0m\u001b[1;33m:\u001b[0m\u001b[1;33m\u001b[0m\u001b[0m\n\u001b[0;32m    112\u001b[0m                 \u001b[1;32mprint\u001b[0m \u001b[1;34m\"No key words found, hibernating for \"\u001b[0m\u001b[1;33m,\u001b[0m \u001b[0mhibernate\u001b[0m\u001b[1;33m,\u001b[0m \u001b[1;34m\" seconds.\"\u001b[0m\u001b[1;33m\u001b[0m\u001b[0m\n\u001b[1;32m--> 113\u001b[1;33m                 \u001b[0mtime\u001b[0m\u001b[1;33m.\u001b[0m\u001b[0msleep\u001b[0m\u001b[1;33m(\u001b[0m\u001b[0mint\u001b[0m\u001b[1;33m(\u001b[0m\u001b[0mhibernate\u001b[0m\u001b[1;33m)\u001b[0m\u001b[1;33m)\u001b[0m\u001b[1;33m\u001b[0m\u001b[0m\n\u001b[0m\u001b[0;32m    114\u001b[0m                 \u001b[0mcycle\u001b[0m \u001b[1;33m=\u001b[0m \u001b[1;36m1\u001b[0m\u001b[1;33m\u001b[0m\u001b[0m\n\u001b[0;32m    115\u001b[0m                 \u001b[1;32mbreak\u001b[0m\u001b[1;33m\u001b[0m\u001b[0m\n",
        "\u001b[1;31mKeyboardInterrupt\u001b[0m: "
       ]
      }
     ],
     "prompt_number": 1
    },
    {
     "cell_type": "code",
     "collapsed": false,
     "input": [],
     "language": "python",
     "metadata": {},
     "outputs": []
    }
   ],
   "metadata": {}
  }
 ]
}